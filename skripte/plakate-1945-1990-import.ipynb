{
 "cells": [
  {
   "cell_type": "code",
   "execution_count": 2,
   "metadata": {},
   "outputs": [],
   "source": [
    "import pandas as pd\n",
    "from datetime import datetime"
   ]
  },
  {
   "cell_type": "code",
   "execution_count": 61,
   "metadata": {},
   "outputs": [],
   "source": [
    "df = pd.DataFrame()\n",
    "for i in range(6):\n",
    "    df = pd.concat([df,pd.read_excel(f'../raw/Plakate_1945-90_ImportCBS_Teil{i+1}.xlsx', dtype={'ERJ':'str'})], ignore_index=True)\n",
    "df.loc[df.Sprache == 'ger;hun', 'Sprache'] = 'ger/1hun'\n",
    "df.loc[df.IMD == ' T', 'IMD'] = 'T'\n",
    "df.loc[df.ERJ == '1950-60?', 'ERJ'] = '1950-1960?'\n",
    "# df.info()"
   ]
  },
  {
   "cell_type": "code",
   "execution_count": 115,
   "metadata": {},
   "outputs": [
    {
     "data": {
      "text/html": [
       "<div>\n",
       "<style scoped>\n",
       "    .dataframe tbody tr th:only-of-type {\n",
       "        vertical-align: middle;\n",
       "    }\n",
       "\n",
       "    .dataframe tbody tr th {\n",
       "        vertical-align: top;\n",
       "    }\n",
       "\n",
       "    .dataframe thead th {\n",
       "        text-align: right;\n",
       "    }\n",
       "</style>\n",
       "<table border=\"1\" class=\"dataframe\">\n",
       "  <thead>\n",
       "    <tr style=\"text-align: right;\">\n",
       "      <th></th>\n",
       "      <th>IMD</th>\n",
       "      <th>ERJ</th>\n",
       "      <th>Signatur</th>\n",
       "      <th>Format</th>\n",
       "      <th>Anzahl</th>\n",
       "      <th>Form</th>\n",
       "      <th>Anmerkung</th>\n",
       "      <th>Internvermerk</th>\n",
       "      <th>Trägermaterial</th>\n",
       "      <th>Zustand</th>\n",
       "      <th>kons_bemerkung</th>\n",
       "      <th>Altsignatur</th>\n",
       "      <th>Ländercode</th>\n",
       "      <th>Sprache</th>\n",
       "      <th>Erscheinungsort</th>\n",
       "    </tr>\n",
       "  </thead>\n",
       "  <tbody>\n",
       "    <tr>\n",
       "      <th>2893</th>\n",
       "      <td>T/B</td>\n",
       "      <td>1946?</td>\n",
       "      <td>1945-90/2871</td>\n",
       "      <td>D</td>\n",
       "      <td>1 ungezähltes Blatt</td>\n",
       "      <td>NaN</td>\n",
       "      <td>NaN</td>\n",
       "      <td>NaN</td>\n",
       "      <td>NaN</td>\n",
       "      <td>NaN</td>\n",
       "      <td>NaN</td>\n",
       "      <td>78/53/P152(132)</td>\n",
       "      <td>XA-DE</td>\n",
       "      <td>ger</td>\n",
       "      <td>Sowjetische Besatzungszone</td>\n",
       "    </tr>\n",
       "  </tbody>\n",
       "</table>\n",
       "</div>"
      ],
      "text/plain": [
       "      IMD    ERJ      Signatur Format               Anzahl Form Anmerkung  \\\n",
       "2893  T/B  1946?  1945-90/2871      D  1 ungezähltes Blatt  NaN       NaN   \n",
       "\n",
       "     Internvermerk Trägermaterial Zustand kons_bemerkung      Altsignatur  \\\n",
       "2893           NaN            NaN     NaN            NaN  78/53/P152(132)   \n",
       "\n",
       "     Ländercode Sprache             Erscheinungsort  \n",
       "2893      XA-DE     ger  Sowjetische Besatzungszone  "
      ]
     },
     "execution_count": 115,
     "metadata": {},
     "output_type": "execute_result"
    }
   ],
   "source": [
    "df[(df.Signatur == '1945-90/2871')]"
   ]
  },
  {
   "cell_type": "code",
   "execution_count": 116,
   "metadata": {},
   "outputs": [
    {
     "name": "stdout",
     "output_type": "stream",
     "text": [
      "3713 3718\n",
      "4082 4084\n"
     ]
    }
   ],
   "source": [
    "# df[pd.isna(df['ERJ'])].to_excel('../raw/Plakate_1945-90_ERJ-fehlt.xlsx', index=False)\n",
    "# df.Signatur.value_counts()\n",
    "# df[df.Erscheinungsort == '[Ort nicht ermittelbar]']\n",
    "# df[pd.isna(df.Erscheinungsort) | (df.Erscheinungsort == '[Ort nicht ermittelbar]') ]\n",
    "# df[(df.Signatur == '1945-90/982') | (df.Signatur == '1945-90/13563') | (df.Signatur == '1945-90/914')].to_excel('../raw/Plakate_1945-90_Signatur-doppelt.xlsx', index=False)\n",
    "signaturliste = [int(x.split('-')[0]) for x in df.Signatur.str[8:].to_list()]\n",
    "signaturliste.sort()\n",
    "for element in range(len(signaturliste)):\n",
    "    if element > 0:\n",
    "        if signaturliste[element-1] < signaturliste[element]-1:\n",
    "            print(signaturliste[element-1],signaturliste[element])\n",
    "\n",
    "    \n"
   ]
  },
  {
   "cell_type": "code",
   "execution_count": 79,
   "metadata": {},
   "outputs": [],
   "source": [
    "def datensatz_schreiben(row):\n",
    "    pica = \"\\n0500 Pa\\n\"\n",
    "\n",
    "    if row.IMD == 'T':\n",
    "        pica += \"0501 Text$btxt\\n\"\n",
    "    elif row.IMD == 'T/B':\n",
    "        pica += \"0501 Text$btxt\\n0501 unbewegtes Bild$bsti\\n\"\n",
    "    elif row.IMD == 'B':\n",
    "        pica += \"0501 unbewegtes Bild$bsti\\n\"\n",
    "    \n",
    "    pica += f\"\"\"0502 ohne Hilfsmittel zu benutzen$bn\n",
    "0503 Blatt$bnb\n",
    "0600 yy\\n\"\"\"\n",
    "\n",
    "    if len(str(row.ERJ)) == 4:\n",
    "        # nur ein datum\n",
    "        pica += f\"1100 {row.ERJ}\\n1110 *{row.ERJ}$4ezth\\n\"\n",
    "    elif len(str(row.ERJ)) == 5 and str(row.ERJ.endswith('?')) == 'True':\n",
    "        # ein jahr mit fragezeichen\n",
    "        pica += f\"1100 {row.ERJ[:4]}$n[{row.ERJ}]\\n1110 {row.ERJ}*{row.ERJ[:4]}$4ezth\\n\"\n",
    "    elif len(str(row.ERJ)) == 9:\n",
    "        # zwei daten\n",
    "        pica += f\"1100 {row.ERJ[:4]}$n[zwischen {row.ERJ[:4]} und {row.ERJ[5:]}]\\n1110 zwischen {row.ERJ[:4]} und {row.ERJ[5:]}*{row.ERJ}$a{row.ERJ[:4]}$b{row.ERJ[5:]}$4ezth\\n\"\n",
    "    elif len(str(row.ERJ)) == 10:\n",
    "        # zwei daten mit fragezeichen\n",
    "        pica += f\"1100 {row.ERJ[:4]}$n[zwischen {row.ERJ[:4]} und {row.ERJ[5:]}]\\n1110 zwischen {row.ERJ[:4]} und {row.ERJ[5:]}*{row.ERJ[:9]}$a{row.ERJ[:4]}$b{row.ERJ[5:9]}$4ezth\\n\"\n",
    "    else:\n",
    "        pica += f\"\\n\\n1100 FEHLER {row.Signatur}\\n\\n\"\n",
    "    \n",
    "    if pd.isna(row.Trägermaterial):\n",
    "        pica += \"1130 TB-papier\\n1130 !040445224!\\n\"\n",
    "    else:\n",
    "        pica += f\"1130 {row.Trägermaterial}\\n\"\n",
    "    \n",
    "    if pd.isna(row.Form):\n",
    "        pica += \"1131 !04046198X!\\n\"\n",
    "    else:\n",
    "        pica += f\"1131 {row.Form}\\n\"\n",
    "    \n",
    "    pica += \"1132 a1-analog;a2-druck;f2-blatt\\n\"\n",
    "\n",
    "    if pd.notna(row.Sprache):\n",
    "        pica += f\"1500 /1{row.Sprache}\\n\"\n",
    "    \n",
    "    pica += f\"\"\"1700 /1{row.Ländercode}\n",
    "2105 04,P01\n",
    "4000 Plakat Nr. {row.Signatur} der Plakatsammlung 1945-1990\n",
    "4019 Plakat Nr. {row.Signatur} der Plakatsammlung 1945-1990\\n\"\"\"\n",
    "    \n",
    "    if pd.notna(row.Erscheinungsort) and row.Erscheinungsort != '[Ort nicht ermittelbar]':\n",
    "        pica += f\"4030 [{row.Erscheinungsort}] : [Verlag nicht ermittelbar]\"\n",
    "    elif row.Erscheinungsort == '[Ort nicht ermittelbar]' or pd.isna(row.Erscheinungsort):\n",
    "        pica += f\"4030 [Ort nicht ermittelbar] : [Verlag nicht ermittelbar]\"\n",
    "    \n",
    "    pica += f\"\"\"\n",
    "4060 {row.Anzahl}\n",
    "4062 Format {row.Format}\n",
    "4105 !1238824013!\\n\"\"\"\n",
    "    \n",
    "    if pd.notna(row.Anmerkung):\n",
    "        pica += f\"4201 {row.Anmerkung}\\n\"\n",
    "    \n",
    "    pica += f\"4276 nachträglich durch Auswertung der 4201\\n\"\n",
    "    \n",
    "    if pd.notna(row.Internvermerk):\n",
    "        pica += f\"4700 |BSM|{row.Internvermerk}\\n\"\n",
    "       \n",
    "    \n",
    "    \n",
    "    pica += f\"\"\"5590 [Objektgattung]\n",
    "5590 !041133579!\n",
    "7001 {now.strftime('%d-%m-%y')} : x\n",
    "7100 GS PL {row.Signatur} @ m\\n\"\"\"\n",
    "    be_4801 = list()\n",
    "    for element in [(row.Zustand), (row.kons_bemerkung)]:\n",
    "        if type(element) == str:\n",
    "            be_4801.append(element)\n",
    "        elif type(element) == float:\n",
    "            pass\n",
    "        else:\n",
    "            be_4801.append(f'FEHLER in {row.Signatur}')\n",
    "    \n",
    "    if len(be_4801) > 0:\n",
    "        pica += f\"4801 {'; '.join(be_4801)}\\n\"\n",
    "    \n",
    "    pica += \"\"\"6800 [Provenienz]\n",
    "6800 !004709608! *1961-1993\n",
    "6800 Stempel\n",
    "7109 !!DBSM/S!! ; GS PL {row.Signatur}\n",
    "8034 Dieses Plakat ist Teil eines Erschließungsprojekts und derzeit nicht ausleihbar.\\n\"\"\"\n",
    "    if pd.notna(row.Altsignatur):\n",
    "        pica += f\"8598 {row.Altsignatur}\\n\"\n",
    "    return pica"
   ]
  },
  {
   "cell_type": "code",
   "execution_count": 80,
   "metadata": {},
   "outputs": [],
   "source": [
    "now = datetime.now()\n",
    "with open(f\"../dat/plakate1945-90-{now.strftime('%y-%m-%d-%H-%M-%S')}.dat\",\"w\") as f:\n",
    "    with open(f\"../dat/plakate1945-90-recent.dat\", 'w') as f2:\n",
    "        for index, row in df.iterrows():\n",
    "            f.write(datensatz_schreiben(row))\n",
    "            f2.write(datensatz_schreiben(row))\n",
    "\n",
    "with open(f\"../dat/plakate1945-90-recent-sample.dat\", 'w') as f:\n",
    "    for row in df.sample(5).itertuples():\n",
    "        f.write(datensatz_schreiben(row))"
   ]
  },
  {
   "cell_type": "markdown",
   "metadata": {},
   "source": [
    "# bekannte Fehler\n",
    "- ERJ hat manchmal keinen Fehler, was wird standardwert für 1100 und 1110?\n",
    "- 0500 und 0501 noch nicht geklärt\n",
    "- 4276"
   ]
  },
  {
   "cell_type": "markdown",
   "metadata": {},
   "source": []
  }
 ],
 "metadata": {
  "interpreter": {
   "hash": "399238374a065e6ba8b3caf5d52dd0dd35b3269f1e87526041e7a2ed68d24989"
  },
  "kernelspec": {
   "display_name": "Python 3.9.7 64-bit ('base-poNABwGt-py3.9': poetry)",
   "language": "python",
   "name": "python3"
  },
  "language_info": {
   "codemirror_mode": {
    "name": "ipython",
    "version": 3
   },
   "file_extension": ".py",
   "mimetype": "text/x-python",
   "name": "python",
   "nbconvert_exporter": "python",
   "pygments_lexer": "ipython3",
   "version": "3.9.7"
  },
  "orig_nbformat": 4
 },
 "nbformat": 4,
 "nbformat_minor": 2
}
